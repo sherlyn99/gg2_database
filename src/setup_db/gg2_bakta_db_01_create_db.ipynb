{
 "cells": [
  {
   "cell_type": "code",
   "execution_count": 3,
   "id": "faa756c5-773b-4175-a981-143bfa4b2a15",
   "metadata": {},
   "outputs": [],
   "source": [
    "import sqlite3\n",
    "import pandas as pd\n",
    "import numpy as np\n",
    "\n",
    "# specify db\n",
    "path_to_db = '/projects/greengenes2/gg2_bakta.db'\n",
    "\n",
    "# # template for execute commands\n",
    "# command = \"\"\"\n",
    "# \"\"\"\n",
    "# cursor.execute(command)\n",
    "# conn.commit()\n",
    "\n",
    "# # template for running queries and display results in pandas df\n",
    "# query = \"\"\"\n",
    "# \"\"\"\n",
    "# df = pd.read_sql_query(query, conn)\n",
    "# df\n",
    "\n",
    "# sqlite documentation\n",
    "# https://www.tutorialspoint.com/sqlite/sqlite_truncate_table.htm\n",
    "\n",
    "# useful sql command\n",
    "# delete from table_name\n",
    "# drop table table_name\n",
    "\n",
    "# things to note\n",
    "# table: identifier\n",
    "# strip filename of all suffixes when inserting records to identifier.\n",
    "# active = 1, inactive = 0"
   ]
  },
  {
   "cell_type": "markdown",
   "id": "90847553-eb77-492d-9e36-f0d67b10e640",
   "metadata": {},
   "source": [
    "### 1. Create db"
   ]
  },
  {
   "cell_type": "code",
   "execution_count": 3,
   "id": "852ab48a-8ce0-406a-b7e3-3f4abfe0aaf8",
   "metadata": {},
   "outputs": [],
   "source": [
    "# The specified db is created when the code below is run for the first time\n",
    "conn = sqlite3.connect(path_to_db)\n",
    "conn.close()"
   ]
  },
  {
   "cell_type": "markdown",
   "id": "6f4e1d6e-a29b-4ca0-97b1-be7ca131b5b9",
   "metadata": {},
   "source": [
    "### 2. Create tables"
   ]
  },
  {
   "cell_type": "code",
   "execution_count": 11,
   "id": "f0686e7a-1332-41a1-85bf-16b4717127ad",
   "metadata": {},
   "outputs": [],
   "source": [
    "conn = sqlite3.connect(path_to_db)\n",
    "cursor = conn.cursor()"
   ]
  },
  {
   "cell_type": "markdown",
   "id": "7dec033c-955c-465a-bde4-ea463259c7de",
   "metadata": {},
   "source": [
    "#### 2.1 Show all tables in the db"
   ]
  },
  {
   "cell_type": "code",
   "execution_count": 26,
   "id": "5552ea1c-2404-4c07-95ee-e1b59ad20f41",
   "metadata": {},
   "outputs": [
    {
     "data": {
      "text/html": [
       "<div>\n",
       "<style scoped>\n",
       "    .dataframe tbody tr th:only-of-type {\n",
       "        vertical-align: middle;\n",
       "    }\n",
       "\n",
       "    .dataframe tbody tr th {\n",
       "        vertical-align: top;\n",
       "    }\n",
       "\n",
       "    .dataframe thead th {\n",
       "        text-align: right;\n",
       "    }\n",
       "</style>\n",
       "<table border=\"1\" class=\"dataframe\">\n",
       "  <thead>\n",
       "    <tr style=\"text-align: right;\">\n",
       "      <th></th>\n",
       "      <th>name</th>\n",
       "    </tr>\n",
       "  </thead>\n",
       "  <tbody>\n",
       "    <tr>\n",
       "      <th>0</th>\n",
       "      <td>sqlite_sequence</td>\n",
       "    </tr>\n",
       "    <tr>\n",
       "      <th>1</th>\n",
       "      <td>identifier</td>\n",
       "    </tr>\n",
       "  </tbody>\n",
       "</table>\n",
       "</div>"
      ],
      "text/plain": [
       "              name\n",
       "0  sqlite_sequence\n",
       "1       identifier"
      ]
     },
     "execution_count": 26,
     "metadata": {},
     "output_type": "execute_result"
    }
   ],
   "source": [
    "query = '''\n",
    "select name \n",
    "from sqlite_master\n",
    "where type = 'table'\n",
    "'''\n",
    "df = pd.read_sql_query(query, conn)\n",
    "df"
   ]
  },
  {
   "cell_type": "markdown",
   "id": "62ce7517-13ee-485c-b06f-01ea14a27d7f",
   "metadata": {},
   "source": [
    "#### 2.2 Create table: identifier"
   ]
  },
  {
   "cell_type": "code",
   "execution_count": 65,
   "id": "cff09a50-4601-4eba-8d71-5c066d712a89",
   "metadata": {},
   "outputs": [],
   "source": [
    "# create table: identifier\n",
    "# current_timestamp gives time in UTC time zone, can use pytz package to convert to San Diego time if needed\n",
    "command = \"\"\"\n",
    "CREATE TABLE IF NOT EXISTS identifier(\n",
    "    entity_id integer primary key autoincrement, \n",
    "    filename varchar not null, \n",
    "    filepath varchar not null, \n",
    "    external_accession varchar, \n",
    "    external_source varchar, \n",
    "    active int default 1,\n",
    "    created_at timestamp default current_timestamp,\n",
    "    unique(filename, filepath),\n",
    "    unique(external_accession, external_source)\n",
    ");\n",
    "\"\"\"\n",
    "\n",
    "cursor.execute(command)\n",
    "\n",
    "conn.commit()"
   ]
  },
  {
   "cell_type": "code",
   "execution_count": 66,
   "id": "9f73eb79-2c6c-478e-a57a-b8fef0419d1c",
   "metadata": {},
   "outputs": [
    {
     "data": {
      "text/html": [
       "<div>\n",
       "<style scoped>\n",
       "    .dataframe tbody tr th:only-of-type {\n",
       "        vertical-align: middle;\n",
       "    }\n",
       "\n",
       "    .dataframe tbody tr th {\n",
       "        vertical-align: top;\n",
       "    }\n",
       "\n",
       "    .dataframe thead th {\n",
       "        text-align: right;\n",
       "    }\n",
       "</style>\n",
       "<table border=\"1\" class=\"dataframe\">\n",
       "  <thead>\n",
       "    <tr style=\"text-align: right;\">\n",
       "      <th></th>\n",
       "      <th>entity_id</th>\n",
       "      <th>filename</th>\n",
       "      <th>filepath</th>\n",
       "      <th>external_accession</th>\n",
       "      <th>external_source</th>\n",
       "      <th>active</th>\n",
       "      <th>created_at</th>\n",
       "    </tr>\n",
       "  </thead>\n",
       "  <tbody>\n",
       "    <tr>\n",
       "      <th>0</th>\n",
       "      <td>1</td>\n",
       "      <td>UMB1068_final.fasta</td>\n",
       "      <td>/projects/greengenes2/genome_collection/UMB106...</td>\n",
       "      <td>UMB1068</td>\n",
       "      <td>wolfe_urogenital</td>\n",
       "      <td>1</td>\n",
       "      <td>2023-09-13 05:18:01</td>\n",
       "    </tr>\n",
       "    <tr>\n",
       "      <th>1</th>\n",
       "      <td>2</td>\n",
       "      <td>UMB1025_final.fasta</td>\n",
       "      <td>/projects/greengenes2/genome_collection/UMB102...</td>\n",
       "      <td>UMB1025</td>\n",
       "      <td>wolfe_urogenital</td>\n",
       "      <td>1</td>\n",
       "      <td>2023-09-13 05:18:01</td>\n",
       "    </tr>\n",
       "    <tr>\n",
       "      <th>2</th>\n",
       "      <td>3</td>\n",
       "      <td>UMB1027_final.fasta</td>\n",
       "      <td>/projects/greengenes2/genome_collection/UMB102...</td>\n",
       "      <td>UMB1027</td>\n",
       "      <td>wolfe_urogenital</td>\n",
       "      <td>1</td>\n",
       "      <td>2023-09-13 05:18:01</td>\n",
       "    </tr>\n",
       "    <tr>\n",
       "      <th>3</th>\n",
       "      <td>4</td>\n",
       "      <td>UMB1046_final.fasta</td>\n",
       "      <td>/projects/greengenes2/genome_collection/UMB104...</td>\n",
       "      <td>UMB1046</td>\n",
       "      <td>wolfe_urogenital</td>\n",
       "      <td>1</td>\n",
       "      <td>2023-09-13 05:18:01</td>\n",
       "    </tr>\n",
       "    <tr>\n",
       "      <th>4</th>\n",
       "      <td>5</td>\n",
       "      <td>UMB1062_final.fasta</td>\n",
       "      <td>/projects/greengenes2/genome_collection/UMB106...</td>\n",
       "      <td>UMB1062</td>\n",
       "      <td>wolfe_urogenital</td>\n",
       "      <td>1</td>\n",
       "      <td>2023-09-13 05:18:01</td>\n",
       "    </tr>\n",
       "  </tbody>\n",
       "</table>\n",
       "</div>"
      ],
      "text/plain": [
       "   entity_id             filename  \\\n",
       "0          1  UMB1068_final.fasta   \n",
       "1          2  UMB1025_final.fasta   \n",
       "2          3  UMB1027_final.fasta   \n",
       "3          4  UMB1046_final.fasta   \n",
       "4          5  UMB1062_final.fasta   \n",
       "\n",
       "                                            filepath external_accession  \\\n",
       "0  /projects/greengenes2/genome_collection/UMB106...            UMB1068   \n",
       "1  /projects/greengenes2/genome_collection/UMB102...            UMB1025   \n",
       "2  /projects/greengenes2/genome_collection/UMB102...            UMB1027   \n",
       "3  /projects/greengenes2/genome_collection/UMB104...            UMB1046   \n",
       "4  /projects/greengenes2/genome_collection/UMB106...            UMB1062   \n",
       "\n",
       "    external_source  active           created_at  \n",
       "0  wolfe_urogenital       1  2023-09-13 05:18:01  \n",
       "1  wolfe_urogenital       1  2023-09-13 05:18:01  \n",
       "2  wolfe_urogenital       1  2023-09-13 05:18:01  \n",
       "3  wolfe_urogenital       1  2023-09-13 05:18:01  \n",
       "4  wolfe_urogenital       1  2023-09-13 05:18:01  "
      ]
     },
     "execution_count": 66,
     "metadata": {},
     "output_type": "execute_result"
    }
   ],
   "source": [
    "query = \"\"\"\n",
    "select * \n",
    "from identifier\n",
    "\"\"\"\n",
    "df = pd.read_sql_query(query, conn)\n",
    "df"
   ]
  },
  {
   "cell_type": "code",
   "execution_count": 48,
   "id": "29c8c1e5-386d-49ce-af2a-002f18bd52aa",
   "metadata": {},
   "outputs": [],
   "source": [
    "# # testing autoincremental id, active, created_at, and unique constraints\n",
    "# command = \"\"\"\n",
    "# insert into identifier(filename, filepath) values ('fn_01', 'fp_01')\n",
    "# \"\"\"\n",
    "# cursor.execute(command)\n",
    "# conn.commit()\n",
    "\n",
    "# # this should give error as the combination of filename and filepath must be unique\n",
    "# command = \"\"\"\n",
    "# insert into identifier(filename, filepath) values ('fn_01', 'fp_01')\n",
    "# \"\"\"\n",
    "# cursor.execute(command)\n",
    "# conn.commit()\n",
    "\n",
    "# # display contents of the table\n",
    "# query = \"\"\"\n",
    "# select * \n",
    "# from identifier\n",
    "# \"\"\"\n",
    "# df = pd.read_sql_query(query, conn)\n",
    "# df\n",
    "\n",
    "# # truncate table\n",
    "# command = \"\"\"\n",
    "# delete from identifier\n",
    "# \"\"\"\n",
    "# cursor.execute(command)\n",
    "# conn.commit()\n",
    "\n",
    "# # delete table\n",
    "# command = \"\"\"\n",
    "# drop table identifier\n",
    "# \"\"\"\n",
    "# cursor.execute(command)\n",
    "# conn.commit()"
   ]
  },
  {
   "cell_type": "code",
   "execution_count": 62,
   "id": "24d29fca-1a0d-4d3d-8e4e-5a7649a9b533",
   "metadata": {},
   "outputs": [],
   "source": [
    "# # testing 5 external genomes\n",
    "# records = [\n",
    "#     ('UMB1068_final.fasta','/projects/greengenes2/genome_collection/UMB1068_final.fasta','UMB1068','wolfe_urogenital'),\n",
    "#     ('UMB1025_final.fasta','/projects/greengenes2/genome_collection/UMB1025_final.fasta','UMB1025','wolfe_urogenital'),\n",
    "#     ('UMB1027_final.fasta','/projects/greengenes2/genome_collection/UMB1027_final.fasta','UMB1027','wolfe_urogenital'),\n",
    "#     ('UMB1046_final.fasta','/projects/greengenes2/genome_collection/UMB1046_final.fasta','UMB1046','wolfe_urogenital'),\n",
    "#     ('UMB1062_final.fasta','/projects/greengenes2/genome_collection/UMB1062_final.fasta','UMB1062','wolfe_urogenital')\n",
    "# ]\n",
    "\n",
    "# for rec in records:\n",
    "#     cursor.execute(\"insert into identifier(filename, filepath, external_accession, external_source) values (?, ?, ?, ?)\", rec)\n",
    "\n",
    "# conn.commit()"
   ]
  },
  {
   "cell_type": "code",
   "execution_count": 67,
   "id": "78a556a3-4b4d-48be-b990-b530282fc2d8",
   "metadata": {},
   "outputs": [],
   "source": [
    "conn.close()"
   ]
  },
  {
   "cell_type": "code",
   "execution_count": null,
   "id": "02aab4cd-cb5f-4a62-8d21-22c0b5db903f",
   "metadata": {},
   "outputs": [],
   "source": []
  }
 ],
 "metadata": {
  "kernelspec": {
   "display_name": "gg2_bakta_db",
   "language": "python",
   "name": "gg2_bakta_db"
  },
  "language_info": {
   "codemirror_mode": {
    "name": "ipython",
    "version": 3
   },
   "file_extension": ".py",
   "mimetype": "text/x-python",
   "name": "python",
   "nbconvert_exporter": "python",
   "pygments_lexer": "ipython3",
   "version": "3.9.18"
  }
 },
 "nbformat": 4,
 "nbformat_minor": 5
}
